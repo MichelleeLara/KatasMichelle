{
 "cells": [
  {
   "cell_type": "markdown",
   "metadata": {},
   "source": [
    "## Ejercicio 1 | Asteroide a gran velocidad."
   ]
  },
  {
   "cell_type": "code",
   "execution_count": 15,
   "metadata": {},
   "outputs": [
    {
     "name": "stdout",
     "output_type": "stream",
     "text": [
      "Estatus Normal :: Asteroide en una velocida MODERADA.\n"
     ]
    }
   ],
   "source": [
    "astVelocity = int(3)\n",
    "if( astVelocity > 25 ) : \n",
    "    print(\"Advertencia :: Asteroide a GRAN VELOCIDAD.\")\n",
    "elif (astVelocity > 0 and astVelocity <= 25):\n",
    "    print(\"Estatus Normal :: Asteroide en una velocida MODERADA.\")\n",
    "else:\n",
    "        print(\"Error :: datos invalidos\")"
   ]
  },
  {
   "cell_type": "markdown",
   "metadata": {},
   "source": [
    "## Ejercicio 2 | Asteroide con rastro en el cielo."
   ]
  },
  {
   "cell_type": "code",
   "execution_count": 18,
   "metadata": {},
   "outputs": [
    {
     "name": "stdout",
     "output_type": "stream",
     "text": [
      "Estatus :: ATENCIÓN  con el cielo, se aproxima un asteroide con un rastro VISIBLE.\n"
     ]
    }
   ],
   "source": [
    "astVelocity = int(33)\n",
    "\n",
    "if(astVelocity >= 20):\n",
    "    print(\"Estatus :: ATENCIÓN  con el cielo. ¡Hay una luz brillante!.\")\n",
    "elif(astVelocity > 0 and astVelocity < 20 ):\n",
    "    print(\"Estatus :: Sin nada que mostrar\")\n",
    "else : \n",
    "    print(\"Error :: Velocidad inexistente.\")"
   ]
  },
  {
   "cell_type": "markdown",
   "metadata": {},
   "source": [
    "## Ejercicio 3 | Sistema de advertencias contra asteroides."
   ]
  },
  {
   "cell_type": "code",
   "execution_count": 54,
   "metadata": {},
   "outputs": [
    {
     "name": "stdout",
     "output_type": "stream",
     "text": [
      "Alerta de catastrofe :\n",
      "        El impacto de asteroide causará mucho daño\n",
      "\tEstatus ::  Asteroide a GRAN VELOCIDAD.\n"
     ]
    }
   ],
   "source": [
    "astVelocity = int(20)\n",
    "astDim = int(44)\n",
    "\n",
    "if(astDim > 25 or astVelocity >=25):\n",
    "    print(\"Alerta de catastrofe :\\n        El impacto de asteroide causará mucho daño\")\n",
    "    print(\"\\tEstatus ::  Asteroide a GRAN VELOCIDAD.\")\n",
    "\n",
    "if (astVelocity > 20):\n",
    "    print(\"\\tEstatus :: ATENCIÓN  con el cielo. ¡Hay una luz brillante!.\")\n",
    "\n",
    "if(astVelocity <=20 and astDim <=25):\n",
    "    print(\"Todo esta en quilibrio.\")\n",
    "\n"
   ]
  }
 ],
 "metadata": {
  "interpreter": {
   "hash": "256234d28a8044c93731bf4c177d9ae2974d07ed9dfc33ce421f6a14d638c80b"
  },
  "kernelspec": {
   "display_name": "Python 3.10.2 64-bit",
   "language": "python",
   "name": "python3"
  },
  "language_info": {
   "codemirror_mode": {
    "name": "ipython",
    "version": 3
   },
   "file_extension": ".py",
   "mimetype": "text/x-python",
   "name": "python",
   "nbconvert_exporter": "python",
   "pygments_lexer": "ipython3",
   "version": "3.10.2"
  },
  "orig_nbformat": 4
 },
 "nbformat": 4,
 "nbformat_minor": 2
}
