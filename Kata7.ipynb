{
 "cells": [
  {
   "cell_type": "markdown",
   "metadata": {},
   "source": [
    "## Ejercico 1 | Creación de un ciclo while"
   ]
  },
  {
   "cell_type": "code",
   "execution_count": 12,
   "metadata": {},
   "outputs": [
    {
     "name": "stdout",
     "output_type": "stream",
     "text": [
      "['Mercurio', 'Venus', 'Tierra', 'Marte', 'Jupiter', 'Saturno', 'Uranp', 'Neptuno']\n"
     ]
    }
   ],
   "source": [
    "newPlanet = \"\"\n",
    "list = []\n",
    "stop = int(0)\n",
    "\n",
    "while (stop < 8):\n",
    "    newPlanet = input(f\"{stop + 1} Planeta: \")\n",
    "    list.append(newPlanet)\n",
    "    stop = stop + 1\n",
    "\n",
    "print(list)"
   ]
  },
  {
   "cell_type": "markdown",
   "metadata": {},
   "source": [
    "## Ejercico 2 | Creación de un ciclo For"
   ]
  },
  {
   "cell_type": "code",
   "execution_count": 15,
   "metadata": {},
   "outputs": [
    {
     "name": "stdout",
     "output_type": "stream",
     "text": [
      "Mercurio\n",
      "Venus\n",
      "Tierra\n",
      "Marte\n",
      "Jupiter\n",
      "Saturno\n",
      "Uranp\n",
      "Neptuno\n"
     ]
    }
   ],
   "source": [
    "for newPlanet in list:\n",
    "    print(newPlanet)"
   ]
  }
 ],
 "metadata": {
  "interpreter": {
   "hash": "256234d28a8044c93731bf4c177d9ae2974d07ed9dfc33ce421f6a14d638c80b"
  },
  "kernelspec": {
   "display_name": "Python 3.10.2 64-bit",
   "language": "python",
   "name": "python3"
  },
  "language_info": {
   "codemirror_mode": {
    "name": "ipython",
    "version": 3
   },
   "file_extension": ".py",
   "mimetype": "text/x-python",
   "name": "python",
   "nbconvert_exporter": "python",
   "pygments_lexer": "ipython3",
   "version": "3.10.2"
  },
  "orig_nbformat": 4
 },
 "nbformat": 4,
 "nbformat_minor": 2
}
