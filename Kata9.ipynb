{
 "cells": [
  {
   "cell_type": "markdown",
   "metadata": {},
   "source": [
    "## Ejercicio 1 | Función en python "
   ]
  },
  {
   "cell_type": "code",
   "execution_count": null,
   "metadata": {},
   "outputs": [],
   "source": [
    "def Combustible (tanq1 , tanq2 , tanq3):\n",
    "    avg = ((tanq1 + tanq2 + tanq3) / 3)\n",
    "    return f\"Reporte Final : \\n Media de los tres tanques: {avg} \\n Tanque 1 al {tanq1}% \\n Tanque 2 al {tanq2}% \\n Tanque 1 al {tanq3}%\"\n",
    "\n",
    "print(Combustible(80 , 62 ,43))\n"
   ]
  },
  {
   "cell_type": "markdown",
   "metadata": {},
   "source": [
    "## Ejercicio 2 | Funcion con argumentos en python"
   ]
  },
  {
   "cell_type": "code",
   "execution_count": null,
   "metadata": {},
   "outputs": [],
   "source": [
    "def coheteInfo (preL , timeF , dest , tanqExt , tanqInt):\n",
    "    return f\"Mision camino a {dest} \\n Tiempo total : {preL + timeF} minutos \\n Combustible comsumido por la nave: {tanqExt + tanqInt} galones\"\n",
    "\n",
    "print(coheteInfo(30 , 51 , \"Tierra\" , 3000 , 10000))\n",
    "\n",
    "def mision (dest , *minut , **combs):\n",
    "    return f\"\"\"\n",
    "    Mission to {dest}\n",
    "    Total travel time: {sum(minut)} minutes\n",
    "    Total fuel left: {sum(combs.values())}\n",
    "    \"\"\"\n",
    "\n",
    "print(mission_report(\"Moon\", 10, 15, 51, main=300000, external=200000))\n"
   ]
  }
 ],
 "metadata": {
  "interpreter": {
   "hash": "256234d28a8044c93731bf4c177d9ae2974d07ed9dfc33ce421f6a14d638c80b"
  },
  "kernelspec": {
   "display_name": "Python 3.10.2 64-bit",
   "language": "python",
   "name": "python3"
  },
  "language_info": {
   "codemirror_mode": {
    "name": "ipython",
    "version": 3
   },
   "file_extension": ".py",
   "mimetype": "text/x-python",
   "name": "python",
   "nbconvert_exporter": "python",
   "pygments_lexer": "ipython3",
   "version": "3.10.2"
  },
  "orig_nbformat": 4
 },
 "nbformat": 4,
 "nbformat_minor": 2
}
