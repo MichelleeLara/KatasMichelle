{
 "cells": [
  {
   "cell_type": "markdown",
   "metadata": {},
   "source": [
    "## Ejercicio 1 | Listas en py"
   ]
  },
  {
   "cell_type": "code",
   "execution_count": 8,
   "metadata": {},
   "outputs": [
    {
     "name": "stdout",
     "output_type": "stream",
     "text": [
      "El tamaño del la lista es de :  8\n",
      "El ultimo elemento agregado es :  pluton\n"
     ]
    }
   ],
   "source": [
    "planets = [\"Tierra\" , \"Marte\" , \"Jupiter\" , \"Saturno\" , \"Urano\" , \"Mercurio\" , \"venus\" , \"Neptuno\"]\n",
    "long = (len(planets))\n",
    "print(\"El tamaño del la lista es de : \" , long)\n",
    "planets.insert(8 , \"pluton\")\n",
    "print(\"El ultimo elemento agregado es : \" , planets[long])\n",
    "\n"
   ]
  },
  {
   "cell_type": "markdown",
   "metadata": {},
   "source": [
    "## Ejercicio 2 | Manejo de listas"
   ]
  },
  {
   "cell_type": "code",
   "execution_count": 14,
   "metadata": {},
   "outputs": [
    {
     "name": "stdout",
     "output_type": "stream",
     "text": [
      "3\n",
      "Planetas más cercanos al sol Mars\n",
      "['Mercury', 'Venus', 'Earth']\n",
      "Planetas mas alejados al sol Mars\n",
      "['Jupiter', 'Saturn', 'Neptune']\n"
     ]
    }
   ],
   "source": [
    "planets = ['Mercury', 'Venus', 'Earth', 'Mars', 'Jupiter', 'Saturn', 'Neptune']\n",
    "\n",
    "user = input('Ingresar un planeta:')\n",
    "planet_index = planets.index(user)\n",
    "print(planet_index)\n",
    "print('Planetas más cercanos al sol ' + user)\n",
    "print(planets[0:planet_index])\n",
    "\n",
    "\n",
    "print('Planetas mas alejados al sol ' + user)\n",
    "print(planets[planet_index + 1:])\n",
    "\n"
   ]
  }
 ],
 "metadata": {
  "interpreter": {
   "hash": "256234d28a8044c93731bf4c177d9ae2974d07ed9dfc33ce421f6a14d638c80b"
  },
  "kernelspec": {
   "display_name": "Python 3.10.2 64-bit",
   "language": "python",
   "name": "python3"
  },
  "language_info": {
   "codemirror_mode": {
    "name": "ipython",
    "version": 3
   },
   "file_extension": ".py",
   "mimetype": "text/x-python",
   "name": "python",
   "nbconvert_exporter": "python",
   "pygments_lexer": "ipython3",
   "version": "3.10.2"
  },
  "orig_nbformat": 4
 },
 "nbformat": 4,
 "nbformat_minor": 2
}
