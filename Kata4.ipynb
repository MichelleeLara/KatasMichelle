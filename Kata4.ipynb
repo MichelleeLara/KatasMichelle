{
 "cells": [
  {
   "cell_type": "markdown",
   "metadata": {},
   "source": [
    "## Ejercicio 1 | Manejo de oraciones"
   ]
  },
  {
   "cell_type": "code",
   "execution_count": null,
   "metadata": {},
   "outputs": [],
   "source": [
    "text = \"\"\"Interesting facts about the Moon. The Moon is Earth's only satellite. There are several interesting facts about the Moon and how it affects life here on Earth. \n",
    "On average, the Moon moves 4cm away from the Earth every year. This yearly drift is not significant enough to cause immediate effects on Earth. The highest dayl\"\"\"\n",
    "keyWords = [\"average\", \"temperature\", \"distance\"]\n",
    "text.split(\".\")\n",
    "\n",
    "for sentence in text:\n",
    "    for keyWords in keyWords:\n",
    "        if keyWords in sentence:\n",
    "            print(sentence)\n",
    "            break\n",
    "\n",
    "for sentence in text:\n",
    "    for keyWords in keyWords:\n",
    "        if keyWords in sentence:\n",
    "            print(sentence.replace(' C', ' Celsius'))\n",
    "            break\n"
   ]
  },
  {
   "cell_type": "markdown",
   "metadata": {},
   "source": [
    "## Ejercicio 2 | Formateo de texto\n"
   ]
  },
  {
   "cell_type": "code",
   "execution_count": 63,
   "metadata": {},
   "outputs": [
    {
     "name": "stdout",
     "output_type": "stream",
     "text": [
      "[1]Acerca De La Gravedad Sobre Génoma--------------------------------------------------------------------------------\n",
      "Nombre del planeta : Tierra\n",
      "Gravedad en Génoma: 1.4300000000000002 m/s2 \n",
      "[2] Acerca de Tierra \n",
      "Nombre del planeta : Tierra \n",
      "Gravedad en Tierra : 0.00143 m/s2\n"
     ]
    },
    {
     "data": {
      "text/plain": [
       "'Interesting Facts About The Moon'"
      ]
     },
     "execution_count": 63,
     "metadata": {},
     "output_type": "execute_result"
    }
   ],
   "source": [
    "planet = 'Tierra'\n",
    "gravity = 0.00143\n",
    "name = 'Génoma'\n",
    "\n",
    "title = f'[1]Acerca de la gravedad sobre {name}'\n",
    "\n",
    "\n",
    "\n",
    "deta = f\"\"\"{'-' * 80}\n",
    "Nombre del planeta : {planet}\n",
    "Gravedad en {name}: {gravity * 1000} m/s2 \"\"\"\n",
    "\n",
    "temp = f\"\"\"{title.title()}{deta}\"\"\"\n",
    "print(temp)\n",
    "\n",
    "planet = 'Tierra'\n",
    "gravity = 0.00143\n",
    "name = 'Génoma'\n",
    "\n",
    "template = \"\"\"[2] Acerca de {name} \n",
    "Nombre del planeta : {planet} \n",
    "Gravedad en {name} : {gravity} m/s2\"\"\"\n",
    "\n",
    "print(template.format(name = planet , planet = planet , gravity = gravity))\n",
    "\n",
    "\n",
    "\n"
   ]
  }
 ],
 "metadata": {
  "interpreter": {
   "hash": "256234d28a8044c93731bf4c177d9ae2974d07ed9dfc33ce421f6a14d638c80b"
  },
  "kernelspec": {
   "display_name": "Python 3.10.2 64-bit",
   "language": "python",
   "name": "python3"
  },
  "language_info": {
   "codemirror_mode": {
    "name": "ipython",
    "version": 3
   },
   "file_extension": ".py",
   "mimetype": "text/x-python",
   "name": "python",
   "nbconvert_exporter": "python",
   "pygments_lexer": "ipython3",
   "version": "3.10.2"
  },
  "orig_nbformat": 4
 },
 "nbformat": 4,
 "nbformat_minor": 2
}
