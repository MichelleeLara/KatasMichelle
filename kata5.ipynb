{
 "cells": [
  {
   "cell_type": "markdown",
   "metadata": {},
   "source": [
    "## Ejercicio 1 | Distancia entre planetas"
   ]
  },
  {
   "cell_type": "code",
   "execution_count": 10,
   "metadata": {},
   "outputs": [
    {
     "data": {
      "text/plain": [
       "'La distancia dada en kilometros [Km] es de : 628949330\\nLa conversión a millas es de 390577533.93'"
      ]
     },
     "execution_count": 10,
     "metadata": {},
     "output_type": "execute_result"
    }
   ],
   "source": [
    "tierra = int(149597870)\n",
    "jupiter = int(778547200)\n",
    "\n",
    "dist = jupiter - tierra\n",
    "\n",
    "f\"\"\"La distancia dada en kilometros [Km] es de : {dist}\n",
    "La conversión a millas es de {dist * .621}\"\"\""
   ]
  },
  {
   "cell_type": "markdown",
   "metadata": {},
   "source": [
    "## Ejercicio 2 | conversión de cadena a número"
   ]
  },
  {
   "cell_type": "code",
   "execution_count": 16,
   "metadata": {},
   "outputs": [
    {
     "name": "stdout",
     "output_type": "stream",
     "text": [
      "La distancia entre los planetas ingresados es de: 5 \n",
      " la distancia en millas es de: 3.105\n"
     ]
    }
   ],
   "source": [
    "strPlanet = input(\"Ingresar la distancia de el primer planeta respecto al sol\")\n",
    "strPlanet2 = input(\"Ingresar la distancia de el segundo planeta respecto al sol\")\n",
    "\n",
    "valueP = int(strPlanet)\n",
    "valueP2 = int(strPlanet2)\n",
    "distP = abs (valueP2 - valueP)\n",
    "\n",
    "print(f\"La distancia entre los planetas ingresados es de: {distP} \\n\",\n",
    "f\"la distancia en millas es de: {distP*.621 }\")"
   ]
  }
 ],
 "metadata": {
  "interpreter": {
   "hash": "256234d28a8044c93731bf4c177d9ae2974d07ed9dfc33ce421f6a14d638c80b"
  },
  "kernelspec": {
   "display_name": "Python 3.10.2 64-bit",
   "language": "python",
   "name": "python3"
  },
  "language_info": {
   "codemirror_mode": {
    "name": "ipython",
    "version": 3
   },
   "file_extension": ".py",
   "mimetype": "text/x-python",
   "name": "python",
   "nbconvert_exporter": "python",
   "pygments_lexer": "ipython3",
   "version": "3.10.2"
  },
  "orig_nbformat": 4
 },
 "nbformat": 4,
 "nbformat_minor": 2
}
