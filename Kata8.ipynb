{
 "cells": [
  {
   "cell_type": "markdown",
   "metadata": {},
   "source": [
    "## Ejercico 1 | Diccionarios en python"
   ]
  },
  {
   "cell_type": "code",
   "execution_count": 20,
   "metadata": {},
   "outputs": [
    {
     "name": "stdout",
     "output_type": "stream",
     "text": [
      "Mars tiene 43 lunas\n",
      "La circunferencia polar es de: 6752\n"
     ]
    }
   ],
   "source": [
    "planet = {\n",
    "    'name' :'Mars',\n",
    "    'moons' : 43\n",
    "}\n",
    "\n",
    "print(f\"{planet['name']} tiene {planet['moons']} lunas\")\n",
    "\n",
    "planet['circunferencia '] = {\n",
    "    'polar' : 6752 ,\n",
    "    'equatorial' : 233\n",
    "}\n",
    "\n",
    "\n",
    "\n",
    "print(f\"La circunferencia polar es de: {planet['circunferencia '] ['polar'] }\")"
   ]
  },
  {
   "cell_type": "markdown",
   "metadata": {},
   "source": [
    "## Ejercico 2 | Obtención de datos de un diccionario"
   ]
  },
  {
   "cell_type": "code",
   "execution_count": 47,
   "metadata": {},
   "outputs": [
    {
     "name": "stdout",
     "output_type": "stream",
     "text": [
      "12\n",
      "Hay 214 en todo el sistema solar El promedio de lunas en el sistema solar es de 17.833333333333332\n"
     ]
    }
   ],
   "source": [
    "planet_moons = {\n",
    "    'mercury': 0,\n",
    "    'venus': 0,\n",
    "    'earth': 1,\n",
    "    'mars': 2,\n",
    "    'jupiter': 79,\n",
    "    'saturn': 82,\n",
    "    'uranus': 27,\n",
    "    'neptune': 14,\n",
    "    'pluto': 5,\n",
    "    'haumea': 2,\n",
    "    'makemake': 1,\n",
    "    'eris': 1\n",
    "}\n",
    "\n",
    "print(len(planet_moons))\n",
    "\n",
    "lunas  =planet_moons.values()\n",
    "planets = planet_moons.keys()\n",
    "lunasT = 0\n",
    "\n",
    "for luna in lunas:\n",
    "    lunasT += luna\n",
    "\n",
    "media = lunasT / len(planet_moons)\n",
    "\n",
    "\n",
    "print(f\"Hay {lunasT} en todo el sistema solar\",\n",
    "f\"El promedio de lunas en el sistema solar es de {media}\")"
   ]
  }
 ],
 "metadata": {
  "language_info": {
   "name": "python"
  },
  "orig_nbformat": 4
 },
 "nbformat": 4,
 "nbformat_minor": 2
}
