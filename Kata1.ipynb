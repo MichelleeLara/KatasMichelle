{
 "cells": [
  {
   "cell_type": "markdown",
   "metadata": {},
   "source": [
    "## Kata 2  |  Día actual."
   ]
  },
  {
   "cell_type": "code",
   "execution_count": 5,
   "metadata": {},
   "outputs": [
    {
     "name": "stdout",
     "output_type": "stream",
     "text": [
      "Today's date is: 2022-02-09\n",
      "day : 9\n",
      "month : 2\n",
      "year :  2022\n"
     ]
    }
   ],
   "source": [
    "from datetime import date\n",
    "\n",
    "ac = str (date.today())\n",
    "dd = str (date.today().day)\n",
    "mm = str (date.today().month)\n",
    "aa = str (date.today().year)\n",
    "\n",
    "\n",
    "print(\"Today's date is: \" + ac)\n",
    "print(\"day : \" + dd )\n",
    "print(\"month : \" + mm )\n",
    "print(\"year :  \" + aa )"
   ]
  },
  {
   "cell_type": "markdown",
   "metadata": {},
   "source": [
    "## kata 2 | Conversión entre parsec y años luz."
   ]
  },
  {
   "cell_type": "code",
   "execution_count": 7,
   "metadata": {},
   "outputs": [
    {
     "name": "stdout",
     "output_type": "stream",
     "text": [
      "11 parsec, son -> 35.877159999999996 años luz.\n"
     ]
    }
   ],
   "source": [
    "parsec = 11 \n",
    "ligthYear = str(parsec * 3.26156)\n",
    "\n",
    "print(str(parsec) + \" parsec, son -> \" + ligthYear + \" años luz.\")\n"
   ]
  }
 ],
 "metadata": {
  "interpreter": {
   "hash": "256234d28a8044c93731bf4c177d9ae2974d07ed9dfc33ce421f6a14d638c80b"
  },
  "kernelspec": {
   "display_name": "Python 3.10.2 64-bit",
   "language": "python",
   "name": "python3"
  },
  "language_info": {
   "codemirror_mode": {
    "name": "ipython",
    "version": 3
   },
   "file_extension": ".py",
   "mimetype": "text/x-python",
   "name": "python",
   "nbconvert_exporter": "python",
   "pygments_lexer": "ipython3",
   "version": "3.10.2"
  },
  "orig_nbformat": 4
 },
 "nbformat": 4,
 "nbformat_minor": 2
}
